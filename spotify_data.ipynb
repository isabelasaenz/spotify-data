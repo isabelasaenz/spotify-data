{
  "nbformat": 4,
  "nbformat_minor": 0,
  "metadata": {
    "colab": {
      "provenance": [],
      "authorship_tag": "ABX9TyPqp1q01aRtTLmq3w7Hd46N"
    },
    "kernelspec": {
      "name": "python3",
      "display_name": "Python 3"
    },
    "language_info": {
      "name": "python"
    }
  },
  "cells": [
    {
      "cell_type": "markdown",
      "source": [
        "### Spotify Data Analysis - 0.1.2\n",
        "***\n",
        "#### Packages used\n",
        "- **spotipy**: authentication, fetching user data, and managing playlists.\n",
        "\n",
        "- **pandas**: data structures and functions to handle structured data, such as creating dataframes and performing operations on them.\n",
        "\n",
        "- **seaborn**: statistical graphics.\n",
        "\n",
        "- **matplotlib**: plots, charts, and visualizations.\n",
        "\n",
        "- **requests_oauthlib**: access tokens for OAuth 2.0 protected resources, such as the Spotify API.\n",
        "\n",
        "- **IPython.display**: displaying images, HTML, and interactive widgets.\n",
        "***\n",
        "#### Documentation\n",
        "\n",
        "- [Spotipy Documentation](https://spotipy.readthedocs.io/en/2.22.1/)\n",
        "- [Spotify Web API Documentation](https://developer.spotify.com/documentation/web-api)\n",
        "***\n"
      ],
      "metadata": {
        "id": "eD1mHIir-GBP"
      }
    },
    {
      "cell_type": "code",
      "execution_count": null,
      "metadata": {
        "id": "08z6bknCqglQ"
      },
      "outputs": [],
      "source": [
        "!pip install spotipy ipyauth requests_oauthlib"
      ]
    },
    {
      "cell_type": "code",
      "source": [
        "import spotipy\n",
        "import pandas as pd\n",
        "import seaborn as sns\n",
        "import matplotlib.pyplot as plt\n",
        "\n",
        "import os\n",
        "import json\n",
        "import IPython.display\n",
        "\n",
        "from spotipy.oauth2 import SpotifyOAuth\n",
        "from requests_oauthlib import OAuth2Session"
      ],
      "metadata": {
        "id": "CzVGdiKaqr8w"
      },
      "execution_count": null,
      "outputs": []
    },
    {
      "cell_type": "code",
      "source": [
        "# API credentials and settings\n",
        "client_id = '<client id>'\n",
        "client_secret = '<client secret>'\n",
        "redirect_uri = '<redirect uri>'\n",
        "scope = 'user-top-read'"
      ],
      "metadata": {
        "id": "NAyNnECfrSqZ"
      },
      "execution_count": null,
      "outputs": []
    },
    {
      "cell_type": "code",
      "source": [
        "# function to authenticate spotify and get access token\n",
        "def authenticate_connection(client_id, client_secret, redirect_uri, scope):\n",
        "    oauth = OAuth2Session(client_id, redirect_uri=redirect_uri, scope=scope)\n",
        "    authorization_url, state = oauth.authorization_url(\"https://accounts.spotify.com/authorize\")\n",
        "\n",
        "    print(f\"go to the following URL and authorize access: {authorization_url}\")\n",
        "    authorization_response = input(\"enter the callback URL: \")\n",
        "\n",
        "    token = oauth.fetch_token(\n",
        "        \"https://accounts.spotify.com/api/token\",\n",
        "        authorization_response=authorization_response,\n",
        "        client_secret=client_secret,\n",
        "    )\n",
        "    access_token = token[\"access_token\"]\n",
        "    return access_token"
      ],
      "metadata": {
        "id": "z0qKbaTYruhF"
      },
      "execution_count": null,
      "outputs": []
    },
    {
      "cell_type": "code",
      "source": [
        "# authenticate spotify and get access token\n",
        "access_token = authenticate_connection(client_id, client_secret, redirect_uri, scope)\n",
        "# create client object\n",
        "sp = spotipy.Spotify(auth_manager=SpotifyOAuth(client_id ,\n",
        "                                                client_secret,\n",
        "                                                redirect_uri,\n",
        "                                                scope=\"user-top-read user-library-read\"))"
      ],
      "metadata": {
        "id": "IE3SWwp202eP"
      },
      "execution_count": null,
      "outputs": []
    },
    {
      "cell_type": "code",
      "source": [
        "time_range = 'short_term' # 'short_term = 4 weeks', 'medium_term = 6 months', 'long_term = all time'\n",
        "top_tracks = sp.current_user_top_tracks(time_range=time_range, limit=10, offset=0)\n",
        "top_artists = sp.current_user_top_artists(time_range=time_range, limit=5, offset=0)\n",
        "\n",
        "# create a list of tuples containing album and artist names\n",
        "album_artist_pairs = []\n",
        "for track in top_tracks['items']:\n",
        "    album = track['album']['name']\n",
        "    artist = track['artists'][0]['name']\n",
        "    album_artist_pairs.append((album, artist))\n",
        "\n",
        "# remove duplicates from the list\n",
        "unique_album_artist_pairs = list(set(album_artist_pairs))"
      ],
      "metadata": {
        "id": "1M2LuK2xuhCI"
      },
      "execution_count": null,
      "outputs": []
    },
    {
      "cell_type": "code",
      "source": [
        "# create the dataframes\n",
        "\n",
        "tracks_df = pd.DataFrame([(track['name'], track['artists'][0]['name']) for track in top_tracks['items']],\n",
        "                         columns=['Track', 'Artist'])\n",
        "print(\"Top Tracks:\")\n",
        "print(tracks_df)\n",
        "\n",
        "artists_df = pd.DataFrame([{'Artist': artist['name']} for artist in top_artists['items']])\n",
        "print(\"\\nTop Artists:\")\n",
        "print(artists_df)\n",
        "\n",
        "albums_df = pd.DataFrame(unique_album_artist_pairs, columns=['Album', 'Artist'])\n",
        "print(\"\\nTop Albums:\")\n",
        "print(albums_df)"
      ],
      "metadata": {
        "id": "Zo4FMynavLDy"
      },
      "execution_count": null,
      "outputs": []
    },
    {
      "cell_type": "code",
      "source": [
        "def create_table(df, title):\n",
        "    fig, ax = plt.subplots()\n",
        "    ax.axis('off')\n",
        "    ax.axis('tight')\n",
        "\n",
        "    # create table with custom colors\n",
        "    cell_colors = [[\"#efefef\"] * len(df.columns) if i % 2 == 0 else [\"#ffffff\"] * len(df.columns) for i in range(len(df))]\n",
        "    table = ax.table(cellText=df.values, colLabels=df.columns, loc='center', cellLoc='center', cellColours=cell_colors)\n",
        "\n",
        "    # set font size and scale\n",
        "    table.auto_set_font_size(False)\n",
        "    table.set_fontsize(12)\n",
        "    table.scale(1, 1.5)\n",
        "\n",
        "    # adjust cell padding\n",
        "    table.auto_set_column_width(list(range(len(df.columns))))\n",
        "\n",
        "    # remove table borders\n",
        "    for key, cell in table.get_celld().items():\n",
        "        cell.set_linewidth(0)\n",
        "\n",
        "    # adjust spacing around \"top artists\" table\n",
        "    if title == 'Top Artists':\n",
        "        table.scale(1.5, 1)\n",
        "\n",
        "    # set title\n",
        "    ax.text(0.5, 0.95, title, fontsize=16, ha='center', va='bottom', transform=ax.transAxes)\n",
        "\n",
        "    plt.show()\n"
      ],
      "metadata": {
        "id": "eTqJCkH6ALJu"
      },
      "execution_count": null,
      "outputs": []
    },
    {
      "cell_type": "code",
      "source": [
        "create_table(tracks_df, 'Top Tracks')\n"
      ],
      "metadata": {
        "id": "W7v3RJC2DfqC"
      },
      "execution_count": null,
      "outputs": []
    },
    {
      "cell_type": "code",
      "source": [
        "create_table(artists_df, 'Top Artists')\n"
      ],
      "metadata": {
        "id": "pwUGDzNVDidE"
      },
      "execution_count": null,
      "outputs": []
    },
    {
      "cell_type": "code",
      "source": [
        "create_table(albums_df, 'Top Albums')"
      ],
      "metadata": {
        "id": "bJHgVe2FDj-M"
      },
      "execution_count": null,
      "outputs": []
    }
  ]
}