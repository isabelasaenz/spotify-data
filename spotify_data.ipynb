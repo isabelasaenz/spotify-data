{
  "cells": [
    {
      "cell_type": "markdown",
      "source": [
        "### Spotify Data Analysis - 0.2.2\n",
        "***\n",
        "#### Packages used\n",
        "- **spotipy**: authentication, fetching user data, and managing playlists.\n",
        "\n",
        "- **pandas**: data structures and functions to handle structured data, such as creating dataframes and performing operations on them.\n",
        "\n",
        "- **seaborn**: statistical graphics.\n",
        "\n",
        "- **matplotlib**: plots, charts, and visualizations.\n",
        "\n",
        "- **requests_oauthlib**: access tokens for OAuth 2.0 protected resources, such as the Spotify API.\n",
        "\n",
        "- **IPython.display**: displaying images, HTML, and interactive widgets.\n",
        "***\n",
        "#### Documentation\n",
        "\n",
        "- [Spotipy Documentation](https://spotipy.readthedocs.io/en/2.22.1/)\n",
        "- [Spotify Web API Documentation](https://developer.spotify.com/documentation/web-api)\n",
        "***\n"
      ],
      "metadata": {
        "id": "1hHrpatJ9jQt"
      }
    },
    {
      "cell_type": "code",
      "execution_count": null,
      "metadata": {
        "collapsed": true,
        "id": "08z6bknCqglQ"
      },
      "outputs": [],
      "source": [
        "!pip install spotipy ipyauth requests_oauthlib"
      ]
    },
    {
      "cell_type": "code",
      "execution_count": null,
      "metadata": {
        "id": "CzVGdiKaqr8w"
      },
      "outputs": [],
      "source": [
        "import spotipy\n",
        "import pandas as pd\n",
        "import seaborn as sns\n",
        "import matplotlib.pyplot as plt\n",
        "\n",
        "import os\n",
        "import json\n",
        "import IPython.display\n",
        "\n",
        "from spotipy.oauth2 import SpotifyOAuth\n",
        "from spotipy.oauth2 import SpotifyClientCredentials\n",
        "from requests_oauthlib import OAuth2Session"
      ]
    },
    {
      "cell_type": "code",
      "execution_count": null,
      "metadata": {
        "id": "NAyNnECfrSqZ"
      },
      "outputs": [],
      "source": [
        "# API credentials and settings\n",
        "client_id = '<client id>'\n",
        "client_secret = '<client secret>'\n",
        "redirect_uri = '<redirect uri>'\n",
        "scope = 'user-top-read'"
      ]
    },
    {
      "cell_type": "code",
      "execution_count": null,
      "metadata": {
        "id": "z0qKbaTYruhF"
      },
      "outputs": [],
      "source": [
        "# function to authenticate spotify and get access token\n",
        "def authenticate_connection(client_id, client_secret, redirect_uri, scope):\n",
        "    oauth = OAuth2Session(client_id, redirect_uri=redirect_uri, scope=scope)\n",
        "    authorization_url, state = oauth.authorization_url(\"https://accounts.spotify.com/authorize\")\n",
        "\n",
        "    print(f\"go to the following URL and authorize access: {authorization_url}\")\n",
        "    authorization_response = input(\"enter the callback URL: \")\n",
        "\n",
        "    token = oauth.fetch_token(\n",
        "        \"https://accounts.spotify.com/api/token\",\n",
        "        authorization_response=authorization_response,\n",
        "        client_secret=client_secret,\n",
        "    )\n",
        "    access_token = token[\"access_token\"]\n",
        "    return access_token"
      ]
    },
    {
      "cell_type": "code",
      "execution_count": null,
      "metadata": {
        "id": "IE3SWwp202eP"
      },
      "outputs": [],
      "source": [
        "# authenticate spotify and get access token\n",
        "access_token = authenticate_connection(client_id, client_secret, redirect_uri, scope)\n",
        "# create client object\n",
        "sp = spotipy.Spotify(auth_manager=SpotifyOAuth(client_id ,\n",
        "                                                client_secret,\n",
        "                                                redirect_uri,\n",
        "                                                scope=\"user-top-read user-library-read\"))"
      ]
    },
    {
      "cell_type": "code",
      "execution_count": null,
      "metadata": {
        "id": "1M2LuK2xuhCI"
      },
      "outputs": [],
      "source": [
        "time_range = 'short_term' # 'short_term = 4 weeks', 'medium_term = 6 months', 'long_term = all time'\n",
        "top_tracks = sp.current_user_top_tracks(time_range=time_range, limit=10, offset=0)\n",
        "top_artists = sp.current_user_top_artists(time_range=time_range, limit=5, offset=0)\n",
        "\n",
        "# create a list of tuples containing album and artist names\n",
        "album_artist_pairs = []\n",
        "for track in top_tracks['items']:\n",
        "    album = track['album']['name']\n",
        "    artist = track['artists'][0]['name']\n",
        "    album_artist_pairs.append((album, artist))\n",
        "\n",
        "# remove duplicates from the list\n",
        "unique_album_artist_pairs = list(set(album_artist_pairs))"
      ]
    },
    {
      "cell_type": "code",
      "execution_count": null,
      "metadata": {
        "id": "Zo4FMynavLDy"
      },
      "outputs": [],
      "source": [
        "# create the dataframes\n",
        "\n",
        "tracks_df = pd.DataFrame([(track['name'], track['artists'][0]['name']) for track in top_tracks['items']],\n",
        "                         columns=['Track', 'Artist'])\n",
        "print(\"Top Tracks:\")\n",
        "print(tracks_df)\n",
        "\n",
        "artists_df = pd.DataFrame([{'Artist': artist['name']} for artist in top_artists['items']])\n",
        "print(\"\\nTop Artists:\")\n",
        "print(artists_df)\n",
        "\n",
        "albums_df = pd.DataFrame(unique_album_artist_pairs, columns=['Album', 'Artist'])\n",
        "print(\"\\nTop Albums:\")\n",
        "print(albums_df)"
      ]
    },
    {
      "cell_type": "code",
      "execution_count": null,
      "metadata": {
        "id": "eTqJCkH6ALJu"
      },
      "outputs": [],
      "source": [
        "def create_table(df, title):\n",
        "    fig, ax = plt.subplots()\n",
        "    ax.axis('off')\n",
        "    ax.axis('tight')\n",
        "\n",
        "    cell_colors = [[\"#efefef\"] * len(df.columns) if i % 2 == 0 else [\"#ffffff\"] * len(df.columns) for i in range(len(df))]\n",
        "    table = ax.table(cellText=df.values, colLabels=df.columns, loc='center', cellLoc='center', cellColours=cell_colors)\n",
        "\n",
        "    table.auto_set_font_size(False)\n",
        "    table.set_fontsize(12)\n",
        "    table.scale(1, 1.5)\n",
        "    table.auto_set_column_width(list(range(len(df.columns))))\n",
        "\n",
        "    for key, cell in table.get_celld().items():\n",
        "        cell.set_linewidth(0)\n",
        "\n",
        "    if title == 'Top Artists':\n",
        "        table.scale(1.5, 1)\n",
        "\n",
        "    ax.text(0.5, 0.95, title, fontsize=16, ha='center', va='bottom', transform=ax.transAxes)\n",
        "\n",
        "    plt.show()\n"
      ]
    },
    {
      "cell_type": "code",
      "execution_count": null,
      "metadata": {
        "id": "W7v3RJC2DfqC"
      },
      "outputs": [],
      "source": [
        "create_table(tracks_df, 'Top Tracks')\n",
        "create_table(artists_df, 'Top Artists')\n",
        "create_table(albums_df, 'Top Albums')"
      ]
    },
    {
      "cell_type": "code",
      "execution_count": null,
      "metadata": {
        "id": "7Y1Wt8f_LhPj"
      },
      "outputs": [],
      "source": [
        "playlist_dic = {}\n",
        "playlist_cover_art = {}\n",
        "\n",
        "# iterate through each playlist item in the user's playlists\n",
        "for i in sp.current_user_playlists()['items']:\n",
        "    # store the playlist name as the key and the playlist URI\n",
        "    playlist_dic[i['name']] = i['uri'].split(':')[2]\n",
        "\n",
        "    # store the URL of the first image in the playlist\n",
        "    playlist_cover_art[i['uri'].split(':')[2]] = i['images'][0]['url']\n",
        "\n",
        "playlist_dic\n"
      ]
    },
    {
      "cell_type": "code",
      "execution_count": null,
      "metadata": {
        "id": "jJw_SsXNL1Fb"
      },
      "outputs": [],
      "source": [
        "def generate_playlist_df(playlist_name, playlist_dic, sp):\n",
        "    playlist = pd.DataFrame()\n",
        "\n",
        "    # get the results (tracks) of the specified playlist using the playlist URI\n",
        "    results = sp.playlist(playlist_dic[playlist_name])['tracks']['items']\n",
        "\n",
        "    for i, item in enumerate(results):\n",
        "        track = item['track']\n",
        "\n",
        "        # store the track's artist, name, ID, URL, and album cover URL in the playlist DataFrame\n",
        "        playlist.loc[i, 'artist'] = track['artists'][0]['name']\n",
        "        playlist.loc[i, 'track_name'] = track['name']\n",
        "        playlist.loc[i, 'track_id'] = track['id']\n",
        "        playlist.loc[i, 'url'] = track['album']['images'][0]['url']\n",
        "        playlist.loc[i, 'album_cover'] = track['album']['images'][0]['url']\n",
        "\n",
        "    return playlist"
      ]
    },
    {
      "cell_type": "code",
      "execution_count": null,
      "metadata": {
        "id": "a8mqVkXacDg7"
      },
      "outputs": [],
      "source": [
        "playlists_dataframes = {}\n",
        "\n",
        "for playlist_name in playlist_dic.keys():\n",
        "    # generate the playlist dataframe using the playlist name, playlist_dic, and sp (Spotify client)\n",
        "    playlists_dataframes[playlist_name] = generate_playlist_df(playlist_name, playlist_dic, sp)\n"
      ]
    },
    {
      "cell_type": "code",
      "execution_count": null,
      "metadata": {
        "id": "GVml_RF7jhus"
      },
      "outputs": [],
      "source": [
        "playlist_df = playlists_dataframes['<playlist name>']"
      ]
    },
    {
      "cell_type": "code",
      "execution_count": null,
      "metadata": {
        "id": "NSvHUK_wjlOD"
      },
      "outputs": [],
      "source": [
        "def visualize_cover(playlist_df):\n",
        "    temp = playlist_df['album_cover'].values\n",
        "    plt.figure(figsize=(10,int(0.625 * len(temp))) , facecolor='#ffffff')\n",
        "    columns = 5\n",
        "\n",
        "    for i, url in enumerate(temp[:10]):  # iterate through the first 10 album cover URLs\n",
        "        plt.subplot(math.ceil(len(temp) / columns), columns, i + 1)\n",
        "\n",
        "        image = io.imread(url)\n",
        "        plt.imshow(image)\n",
        "        plt.xticks([])\n",
        "        plt.yticks([])\n",
        "        track_name = playlist_df['track_name'].values[i]\n",
        "        artist_name = playlist_df['artist'].values[i]\n",
        "        plt.xlabel(f\"{track_name}\\n{artist_name}\", fontsize=10, fontweight='bold')\n",
        "        plt.tight_layout(h_pad=0.8, w_pad=0)\n",
        "        plt.subplots_adjust(wspace=None, hspace=None)\n",
        "\n",
        "    plt.show()"
      ]
    },
    {
      "cell_type": "code",
      "execution_count": null,
      "metadata": {
        "id": "P37iHhierDo3"
      },
      "outputs": [],
      "source": [
        "visualize_cover(playlist_df)"
      ]
    },
    {
      "cell_type": "code",
      "execution_count": null,
      "metadata": {
        "id": "9Bv5Xd4YxD6i"
      },
      "outputs": [],
      "source": []
    }
  ],
  "metadata": {
    "colab": {
      "provenance": [],
      "authorship_tag": "ABX9TyMnWU94+cqEpIpDqNWuXYFJ"
    },
    "kernelspec": {
      "display_name": "Python 3",
      "name": "python3"
    },
    "language_info": {
      "name": "python"
    }
  },
  "nbformat": 4,
  "nbformat_minor": 0
}